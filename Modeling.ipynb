{
 "cells": [
  {
   "cell_type": "code",
   "execution_count": 1,
   "metadata": {},
   "outputs": [],
   "source": [
    "import pandas as pd\n",
    "import numpy as np\n",
    "import matplotlib.pyplot as plt\n",
    "import seaborn as sns\n",
    "import math\n",
    "\n",
    "from sklearn.metrics.pairwise import cosine_similarity\n",
    "from collections import defaultdict\n",
    "from sklearn.utils import resample\n",
    "from sklearn.metrics import mean_squared_error as mse\n",
    "from sklearn.metrics import mean_absolute_error as mae\n",
    "from sklearn.metrics import f1_score as f1"
   ]
  },
  {
   "cell_type": "code",
   "execution_count": 2,
   "metadata": {},
   "outputs": [],
   "source": [
    "data = pd.read_csv('cleaned_data.csv')\n",
    "data.drop('Unnamed: 0', axis='columns', inplace=True)\n",
    "data.sort_values(by=['TRANSACTION_DATE'], inplace=True)"
   ]
  },
  {
   "cell_type": "markdown",
   "metadata": {},
   "source": [
    "# Train, Test, Split"
   ]
  },
  {
   "cell_type": "code",
   "execution_count": 3,
   "metadata": {},
   "outputs": [],
   "source": [
    "train = data[:math.floor(.8*len(data))]\n",
    "test = data[math.floor(.8*len(data)):]"
   ]
  },
  {
   "cell_type": "code",
   "execution_count": 4,
   "metadata": {},
   "outputs": [
    {
     "name": "stdout",
     "output_type": "stream",
     "text": [
      "['2009/01/02 05:00:00+00', '2009/01/03 05:00:00+00', '2009/01/04 05:00:00+00'] ['2018/09/08 04:00:00+00', '2018/09/09 04:00:00+00', '2018/09/10 04:00:00+00']\n"
     ]
    }
   ],
   "source": [
    "print(sorted(train.TRANSACTION_DATE.unique())[:3], sorted(train.TRANSACTION_DATE.unique())[-3:])"
   ]
  },
  {
   "cell_type": "code",
   "execution_count": 5,
   "metadata": {},
   "outputs": [
    {
     "name": "stdout",
     "output_type": "stream",
     "text": [
      "['2018/09/10 04:00:00+00', '2018/09/11 04:00:00+00', '2018/09/12 04:00:00+00'] ['2020/10/28 04:00:00+00', '2020/10/29 04:00:00+00', '2020/10/30 04:00:00+00']\n"
     ]
    }
   ],
   "source": [
    "print(sorted(test.TRANSACTION_DATE.unique())[:3], sorted(test.TRANSACTION_DATE.unique())[-3:])"
   ]
  },
  {
   "cell_type": "markdown",
   "metadata": {},
   "source": [
    "# Convert to Matrix"
   ]
  },
  {
   "cell_type": "code",
   "execution_count": 6,
   "metadata": {},
   "outputs": [],
   "source": [
    "agencies = sorted(data.AGENCY.unique())\n",
    "vendors = sorted(data.VENDOR_NAME.unique())\n",
    "agency_ids = {}\n",
    "vendor_ids = {}\n",
    "for i in range(len(agencies)):\n",
    "    agency_ids[agencies[i]] = i\n",
    "for i in range(len(vendors)):\n",
    "    vendor_ids[vendors[i]] = i"
   ]
  },
  {
   "cell_type": "code",
   "execution_count": 7,
   "metadata": {},
   "outputs": [],
   "source": [
    "train = train[[\"AGENCY_ID\", \"TRANSACTION_AMOUNT\", \"VENDOR_ID\"]]\n",
    "test = test[[\"AGENCY_ID\", \"TRANSACTION_AMOUNT\", \"VENDOR_ID\"]]"
   ]
  },
  {
   "cell_type": "code",
   "execution_count": 8,
   "metadata": {},
   "outputs": [],
   "source": [
    "def convert_to_matrix(df, rows, cols):\n",
    "    matrix = [[0 for i in range(len(cols))] for j in range(len(rows))]\n",
    "    for idx in df.index:\n",
    "        matrix[idx[0]][idx[1]] = df.loc[idx].TRANSACTION_AMOUNT\n",
    "    return matrix "
   ]
  },
  {
   "cell_type": "code",
   "execution_count": 9,
   "metadata": {},
   "outputs": [],
   "source": [
    "counts = train.groupby(['AGENCY_ID', 'VENDOR_ID']).count()\n",
    "train_counts = pd.DataFrame(convert_to_matrix(counts, agency_ids.values(), vendor_ids.values()))"
   ]
  },
  {
   "cell_type": "code",
   "execution_count": 10,
   "metadata": {},
   "outputs": [],
   "source": [
    "counts = test.groupby(['AGENCY_ID', 'VENDOR_ID']).count()\n",
    "test_counts = pd.DataFrame(convert_to_matrix(counts, agency_ids.values(), vendor_ids.values()))"
   ]
  },
  {
   "cell_type": "markdown",
   "metadata": {},
   "source": [
    "# Test Recommendations"
   ]
  },
  {
   "cell_type": "code",
   "execution_count": 11,
   "metadata": {},
   "outputs": [],
   "source": [
    "cos_counts = cosine_similarity(train_counts)"
   ]
  },
  {
   "cell_type": "code",
   "execution_count": 12,
   "metadata": {},
   "outputs": [
    {
     "data": {
      "text/html": [
       "<div>\n",
       "<style scoped>\n",
       "    .dataframe tbody tr th:only-of-type {\n",
       "        vertical-align: middle;\n",
       "    }\n",
       "\n",
       "    .dataframe tbody tr th {\n",
       "        vertical-align: top;\n",
       "    }\n",
       "\n",
       "    .dataframe thead th {\n",
       "        text-align: right;\n",
       "    }\n",
       "</style>\n",
       "<table border=\"1\" class=\"dataframe\">\n",
       "  <thead>\n",
       "    <tr style=\"text-align: right;\">\n",
       "      <th></th>\n",
       "      <th>0</th>\n",
       "      <th>1</th>\n",
       "      <th>2</th>\n",
       "      <th>3</th>\n",
       "      <th>4</th>\n",
       "      <th>5</th>\n",
       "      <th>6</th>\n",
       "      <th>7</th>\n",
       "      <th>8</th>\n",
       "      <th>9</th>\n",
       "      <th>...</th>\n",
       "      <th>79</th>\n",
       "      <th>80</th>\n",
       "      <th>81</th>\n",
       "      <th>82</th>\n",
       "      <th>83</th>\n",
       "      <th>84</th>\n",
       "      <th>85</th>\n",
       "      <th>86</th>\n",
       "      <th>87</th>\n",
       "      <th>88</th>\n",
       "    </tr>\n",
       "  </thead>\n",
       "  <tbody>\n",
       "    <tr>\n",
       "      <th>0</th>\n",
       "      <td>1.000000</td>\n",
       "      <td>0.068136</td>\n",
       "      <td>0.080668</td>\n",
       "      <td>0.526835</td>\n",
       "      <td>0.151007</td>\n",
       "      <td>0.526983</td>\n",
       "      <td>0.569407</td>\n",
       "      <td>0.020808</td>\n",
       "      <td>0.105257</td>\n",
       "      <td>0.534175</td>\n",
       "      <td>...</td>\n",
       "      <td>0.774991</td>\n",
       "      <td>0.502050</td>\n",
       "      <td>0.011826</td>\n",
       "      <td>0.672543</td>\n",
       "      <td>0.010237</td>\n",
       "      <td>0.640565</td>\n",
       "      <td>0.176044</td>\n",
       "      <td>0.442245</td>\n",
       "      <td>0.225285</td>\n",
       "      <td>0.319560</td>\n",
       "    </tr>\n",
       "    <tr>\n",
       "      <th>1</th>\n",
       "      <td>0.068136</td>\n",
       "      <td>1.000000</td>\n",
       "      <td>0.158139</td>\n",
       "      <td>0.294187</td>\n",
       "      <td>0.372166</td>\n",
       "      <td>0.510850</td>\n",
       "      <td>0.064115</td>\n",
       "      <td>0.474408</td>\n",
       "      <td>0.055798</td>\n",
       "      <td>0.120816</td>\n",
       "      <td>...</td>\n",
       "      <td>0.169362</td>\n",
       "      <td>0.222992</td>\n",
       "      <td>0.050724</td>\n",
       "      <td>0.074396</td>\n",
       "      <td>0.072682</td>\n",
       "      <td>0.127038</td>\n",
       "      <td>0.143595</td>\n",
       "      <td>0.381923</td>\n",
       "      <td>0.139603</td>\n",
       "      <td>0.264789</td>\n",
       "    </tr>\n",
       "    <tr>\n",
       "      <th>2</th>\n",
       "      <td>0.080668</td>\n",
       "      <td>0.158139</td>\n",
       "      <td>1.000000</td>\n",
       "      <td>0.125748</td>\n",
       "      <td>0.179328</td>\n",
       "      <td>0.204949</td>\n",
       "      <td>0.046233</td>\n",
       "      <td>0.246575</td>\n",
       "      <td>0.152228</td>\n",
       "      <td>0.102740</td>\n",
       "      <td>...</td>\n",
       "      <td>0.159157</td>\n",
       "      <td>0.273899</td>\n",
       "      <td>0.058661</td>\n",
       "      <td>0.189571</td>\n",
       "      <td>0.105481</td>\n",
       "      <td>0.100539</td>\n",
       "      <td>0.070347</td>\n",
       "      <td>0.162186</td>\n",
       "      <td>0.207033</td>\n",
       "      <td>0.233579</td>\n",
       "    </tr>\n",
       "    <tr>\n",
       "      <th>3</th>\n",
       "      <td>0.526835</td>\n",
       "      <td>0.294187</td>\n",
       "      <td>0.125748</td>\n",
       "      <td>1.000000</td>\n",
       "      <td>0.261977</td>\n",
       "      <td>0.656689</td>\n",
       "      <td>0.422708</td>\n",
       "      <td>0.374770</td>\n",
       "      <td>0.256287</td>\n",
       "      <td>0.541998</td>\n",
       "      <td>...</td>\n",
       "      <td>0.596516</td>\n",
       "      <td>0.416764</td>\n",
       "      <td>0.043146</td>\n",
       "      <td>0.464330</td>\n",
       "      <td>0.029044</td>\n",
       "      <td>0.703732</td>\n",
       "      <td>0.148270</td>\n",
       "      <td>0.492929</td>\n",
       "      <td>0.199174</td>\n",
       "      <td>0.323473</td>\n",
       "    </tr>\n",
       "    <tr>\n",
       "      <th>4</th>\n",
       "      <td>0.151007</td>\n",
       "      <td>0.372166</td>\n",
       "      <td>0.179328</td>\n",
       "      <td>0.261977</td>\n",
       "      <td>1.000000</td>\n",
       "      <td>0.385737</td>\n",
       "      <td>0.114777</td>\n",
       "      <td>0.293952</td>\n",
       "      <td>0.178592</td>\n",
       "      <td>0.225322</td>\n",
       "      <td>...</td>\n",
       "      <td>0.237978</td>\n",
       "      <td>0.362104</td>\n",
       "      <td>0.058102</td>\n",
       "      <td>0.208130</td>\n",
       "      <td>0.109644</td>\n",
       "      <td>0.171217</td>\n",
       "      <td>0.245557</td>\n",
       "      <td>0.306668</td>\n",
       "      <td>0.241813</td>\n",
       "      <td>0.304033</td>\n",
       "    </tr>\n",
       "    <tr>\n",
       "      <th>...</th>\n",
       "      <td>...</td>\n",
       "      <td>...</td>\n",
       "      <td>...</td>\n",
       "      <td>...</td>\n",
       "      <td>...</td>\n",
       "      <td>...</td>\n",
       "      <td>...</td>\n",
       "      <td>...</td>\n",
       "      <td>...</td>\n",
       "      <td>...</td>\n",
       "      <td>...</td>\n",
       "      <td>...</td>\n",
       "      <td>...</td>\n",
       "      <td>...</td>\n",
       "      <td>...</td>\n",
       "      <td>...</td>\n",
       "      <td>...</td>\n",
       "      <td>...</td>\n",
       "      <td>...</td>\n",
       "      <td>...</td>\n",
       "      <td>...</td>\n",
       "    </tr>\n",
       "    <tr>\n",
       "      <th>84</th>\n",
       "      <td>0.640565</td>\n",
       "      <td>0.127038</td>\n",
       "      <td>0.100539</td>\n",
       "      <td>0.703732</td>\n",
       "      <td>0.171217</td>\n",
       "      <td>0.478623</td>\n",
       "      <td>0.495655</td>\n",
       "      <td>0.131515</td>\n",
       "      <td>0.208365</td>\n",
       "      <td>0.556791</td>\n",
       "      <td>...</td>\n",
       "      <td>0.678639</td>\n",
       "      <td>0.507929</td>\n",
       "      <td>0.040272</td>\n",
       "      <td>0.597604</td>\n",
       "      <td>0.029198</td>\n",
       "      <td>1.000000</td>\n",
       "      <td>0.203210</td>\n",
       "      <td>0.379443</td>\n",
       "      <td>0.240190</td>\n",
       "      <td>0.303012</td>\n",
       "    </tr>\n",
       "    <tr>\n",
       "      <th>85</th>\n",
       "      <td>0.176044</td>\n",
       "      <td>0.143595</td>\n",
       "      <td>0.070347</td>\n",
       "      <td>0.148270</td>\n",
       "      <td>0.245557</td>\n",
       "      <td>0.195494</td>\n",
       "      <td>0.131094</td>\n",
       "      <td>0.030165</td>\n",
       "      <td>0.125298</td>\n",
       "      <td>0.180897</td>\n",
       "      <td>...</td>\n",
       "      <td>0.203593</td>\n",
       "      <td>0.260311</td>\n",
       "      <td>0.047700</td>\n",
       "      <td>0.178449</td>\n",
       "      <td>0.032980</td>\n",
       "      <td>0.203210</td>\n",
       "      <td>1.000000</td>\n",
       "      <td>0.134023</td>\n",
       "      <td>0.110448</td>\n",
       "      <td>0.242836</td>\n",
       "    </tr>\n",
       "    <tr>\n",
       "      <th>86</th>\n",
       "      <td>0.442245</td>\n",
       "      <td>0.381923</td>\n",
       "      <td>0.162186</td>\n",
       "      <td>0.492929</td>\n",
       "      <td>0.306668</td>\n",
       "      <td>0.652391</td>\n",
       "      <td>0.337213</td>\n",
       "      <td>0.381603</td>\n",
       "      <td>0.040144</td>\n",
       "      <td>0.343984</td>\n",
       "      <td>...</td>\n",
       "      <td>0.580623</td>\n",
       "      <td>0.443149</td>\n",
       "      <td>0.016636</td>\n",
       "      <td>0.422888</td>\n",
       "      <td>0.056162</td>\n",
       "      <td>0.379443</td>\n",
       "      <td>0.134023</td>\n",
       "      <td>1.000000</td>\n",
       "      <td>0.268236</td>\n",
       "      <td>0.389996</td>\n",
       "    </tr>\n",
       "    <tr>\n",
       "      <th>87</th>\n",
       "      <td>0.225285</td>\n",
       "      <td>0.139603</td>\n",
       "      <td>0.207033</td>\n",
       "      <td>0.199174</td>\n",
       "      <td>0.241813</td>\n",
       "      <td>0.249273</td>\n",
       "      <td>0.215142</td>\n",
       "      <td>0.175016</td>\n",
       "      <td>0.189289</td>\n",
       "      <td>0.187817</td>\n",
       "      <td>...</td>\n",
       "      <td>0.317581</td>\n",
       "      <td>0.502760</td>\n",
       "      <td>0.063515</td>\n",
       "      <td>0.356430</td>\n",
       "      <td>0.101448</td>\n",
       "      <td>0.240190</td>\n",
       "      <td>0.110448</td>\n",
       "      <td>0.268236</td>\n",
       "      <td>1.000000</td>\n",
       "      <td>0.309487</td>\n",
       "    </tr>\n",
       "    <tr>\n",
       "      <th>88</th>\n",
       "      <td>0.319560</td>\n",
       "      <td>0.264789</td>\n",
       "      <td>0.233579</td>\n",
       "      <td>0.323473</td>\n",
       "      <td>0.304033</td>\n",
       "      <td>0.464456</td>\n",
       "      <td>0.239503</td>\n",
       "      <td>0.271656</td>\n",
       "      <td>0.175183</td>\n",
       "      <td>0.302168</td>\n",
       "      <td>...</td>\n",
       "      <td>0.562210</td>\n",
       "      <td>0.565578</td>\n",
       "      <td>0.070610</td>\n",
       "      <td>0.455793</td>\n",
       "      <td>0.404886</td>\n",
       "      <td>0.303012</td>\n",
       "      <td>0.242836</td>\n",
       "      <td>0.389996</td>\n",
       "      <td>0.309487</td>\n",
       "      <td>1.000000</td>\n",
       "    </tr>\n",
       "  </tbody>\n",
       "</table>\n",
       "<p>89 rows × 89 columns</p>\n",
       "</div>"
      ],
      "text/plain": [
       "          0         1         2         3         4         5         6   \\\n",
       "0   1.000000  0.068136  0.080668  0.526835  0.151007  0.526983  0.569407   \n",
       "1   0.068136  1.000000  0.158139  0.294187  0.372166  0.510850  0.064115   \n",
       "2   0.080668  0.158139  1.000000  0.125748  0.179328  0.204949  0.046233   \n",
       "3   0.526835  0.294187  0.125748  1.000000  0.261977  0.656689  0.422708   \n",
       "4   0.151007  0.372166  0.179328  0.261977  1.000000  0.385737  0.114777   \n",
       "..       ...       ...       ...       ...       ...       ...       ...   \n",
       "84  0.640565  0.127038  0.100539  0.703732  0.171217  0.478623  0.495655   \n",
       "85  0.176044  0.143595  0.070347  0.148270  0.245557  0.195494  0.131094   \n",
       "86  0.442245  0.381923  0.162186  0.492929  0.306668  0.652391  0.337213   \n",
       "87  0.225285  0.139603  0.207033  0.199174  0.241813  0.249273  0.215142   \n",
       "88  0.319560  0.264789  0.233579  0.323473  0.304033  0.464456  0.239503   \n",
       "\n",
       "          7         8         9   ...        79        80        81        82  \\\n",
       "0   0.020808  0.105257  0.534175  ...  0.774991  0.502050  0.011826  0.672543   \n",
       "1   0.474408  0.055798  0.120816  ...  0.169362  0.222992  0.050724  0.074396   \n",
       "2   0.246575  0.152228  0.102740  ...  0.159157  0.273899  0.058661  0.189571   \n",
       "3   0.374770  0.256287  0.541998  ...  0.596516  0.416764  0.043146  0.464330   \n",
       "4   0.293952  0.178592  0.225322  ...  0.237978  0.362104  0.058102  0.208130   \n",
       "..       ...       ...       ...  ...       ...       ...       ...       ...   \n",
       "84  0.131515  0.208365  0.556791  ...  0.678639  0.507929  0.040272  0.597604   \n",
       "85  0.030165  0.125298  0.180897  ...  0.203593  0.260311  0.047700  0.178449   \n",
       "86  0.381603  0.040144  0.343984  ...  0.580623  0.443149  0.016636  0.422888   \n",
       "87  0.175016  0.189289  0.187817  ...  0.317581  0.502760  0.063515  0.356430   \n",
       "88  0.271656  0.175183  0.302168  ...  0.562210  0.565578  0.070610  0.455793   \n",
       "\n",
       "          83        84        85        86        87        88  \n",
       "0   0.010237  0.640565  0.176044  0.442245  0.225285  0.319560  \n",
       "1   0.072682  0.127038  0.143595  0.381923  0.139603  0.264789  \n",
       "2   0.105481  0.100539  0.070347  0.162186  0.207033  0.233579  \n",
       "3   0.029044  0.703732  0.148270  0.492929  0.199174  0.323473  \n",
       "4   0.109644  0.171217  0.245557  0.306668  0.241813  0.304033  \n",
       "..       ...       ...       ...       ...       ...       ...  \n",
       "84  0.029198  1.000000  0.203210  0.379443  0.240190  0.303012  \n",
       "85  0.032980  0.203210  1.000000  0.134023  0.110448  0.242836  \n",
       "86  0.056162  0.379443  0.134023  1.000000  0.268236  0.389996  \n",
       "87  0.101448  0.240190  0.110448  0.268236  1.000000  0.309487  \n",
       "88  0.404886  0.303012  0.242836  0.389996  0.309487  1.000000  \n",
       "\n",
       "[89 rows x 89 columns]"
      ]
     },
     "execution_count": 12,
     "metadata": {},
     "output_type": "execute_result"
    }
   ],
   "source": [
    "pd.DataFrame(cos_counts)"
   ]
  },
  {
   "cell_type": "code",
   "execution_count": 13,
   "metadata": {},
   "outputs": [],
   "source": [
    "def make_recommendations(transactions, similarity, kind='user'):\n",
    "    if kind == 'user':\n",
    "        return similarity.dot(transactions) / np.array([np.abs(similarity).sum(axis=1)]).T\n",
    "    elif kind == 'item':\n",
    "        return ratings.dot(similarity) / np.array([np.abs(similarity).sum(axis=1)])"
   ]
  },
  {
   "cell_type": "code",
   "execution_count": 14,
   "metadata": {},
   "outputs": [],
   "source": [
    "np_train_counts = train_counts.to_numpy()"
   ]
  },
  {
   "cell_type": "code",
   "execution_count": 15,
   "metadata": {},
   "outputs": [],
   "source": [
    "recommendations = make_recommendations(np_train_counts, cos_counts)"
   ]
  },
  {
   "cell_type": "code",
   "execution_count": 16,
   "metadata": {},
   "outputs": [],
   "source": [
    "for i in range(len(recommendations)): \n",
    "    for j in range(len(recommendations[i])): \n",
    "        recommendations[i][j]/=4"
   ]
  },
  {
   "cell_type": "code",
   "execution_count": 17,
   "metadata": {},
   "outputs": [],
   "source": [
    "def get_mae(pred, actual):\n",
    "    # Ignore nonzero terms.\n",
    "    pred = pred[actual.nonzero()].flatten()\n",
    "    actual = actual[actual.nonzero()].flatten()\n",
    "    return mae(pred, actual)"
   ]
  },
  {
   "cell_type": "code",
   "execution_count": 18,
   "metadata": {},
   "outputs": [],
   "source": [
    "np_test_counts = test_counts.to_numpy()"
   ]
  },
  {
   "cell_type": "code",
   "execution_count": 19,
   "metadata": {},
   "outputs": [],
   "source": [
    "nonzero_mae = get_mae(recommendations, np_test_counts)\n",
    "full_mae = mae(recommendations, np_test_counts)"
   ]
  },
  {
   "cell_type": "code",
   "execution_count": 20,
   "metadata": {},
   "outputs": [
    {
     "data": {
      "text/plain": [
       "0.0329789789723071"
      ]
     },
     "execution_count": 20,
     "metadata": {},
     "output_type": "execute_result"
    }
   ],
   "source": [
    "full_mae"
   ]
  }
 ],
 "metadata": {
  "kernelspec": {
   "display_name": "Python 3",
   "language": "python",
   "name": "python3"
  },
  "language_info": {
   "codemirror_mode": {
    "name": "ipython",
    "version": 3
   },
   "file_extension": ".py",
   "mimetype": "text/x-python",
   "name": "python",
   "nbconvert_exporter": "python",
   "pygments_lexer": "ipython3",
   "version": "3.7.6"
  }
 },
 "nbformat": 4,
 "nbformat_minor": 4
}
